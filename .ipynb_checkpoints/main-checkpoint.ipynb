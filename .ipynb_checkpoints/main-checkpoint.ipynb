{
 "cells": [
  {
   "cell_type": "markdown",
   "metadata": {},
   "source": [
    "# Test"
   ]
  },
  {
   "cell_type": "code",
   "execution_count": 1,
   "metadata": {},
   "outputs": [],
   "source": [
    "# the TestEnv environment is used to simply simulate the network\n",
    "from flow.envs import TestEnv\n",
    "\n",
    "# the Experiment class is used for running simulations\n",
    "from flow.core.experiment import Experiment\n",
    "\n",
    "# all other imports are standard\n",
    "from flow.core.params import VehicleParams\n",
    "from flow.core.params import NetParams\n",
    "from flow.core.params import InitialConfig\n",
    "from flow.core.params import EnvParams\n",
    "from flow.core.params import SumoParams\n",
    "\n",
    "from flow.scenarios import Scenario\n",
    "\n",
    "import re"
   ]
  },
  {
   "cell_type": "code",
   "execution_count": 2,
   "metadata": {},
   "outputs": [],
   "source": [
    "from flow.controllers.car_following_models import IDMController\n",
    "from flow.controllers.routing_controllers import MinicityRouter"
   ]
  },
  {
   "cell_type": "code",
   "execution_count": 3,
   "metadata": {},
   "outputs": [],
   "source": [
    "from flow.core.params import InFlows\n"
   ]
  },
  {
   "cell_type": "code",
   "execution_count": 4,
   "metadata": {},
   "outputs": [],
   "source": [
    "from flow.controllers.base_routing_controller import BaseRouter\n",
    "import random\n",
    "import re\n",
    "import numpy as np"
   ]
  },
  {
   "cell_type": "code",
   "execution_count": 5,
   "metadata": {},
   "outputs": [],
   "source": [
    "from flow.envs import Env"
   ]
  },
  {
   "cell_type": "code",
   "execution_count": 6,
   "metadata": {},
   "outputs": [],
   "source": [
    "from osm_router import OSMRouter\n",
    "from osm_scenario import OSMScenario"
   ]
  },
  {
   "cell_type": "code",
   "execution_count": 7,
   "metadata": {},
   "outputs": [],
   "source": [
    "name = 'Kenmore'"
   ]
  },
  {
   "cell_type": "code",
   "execution_count": 8,
   "metadata": {},
   "outputs": [],
   "source": [
    "def edge_distribution(filename):\n",
    "    edges = []\n",
    "    for line in open(filename):\n",
    "        m = re.search(r'edge:(.+)', line)\n",
    "        if m is not None:\n",
    "            edges.append(m.group(1))\n",
    "    return edges"
   ]
  },
  {
   "cell_type": "code",
   "execution_count": 9,
   "metadata": {
    "scrolled": true
   },
   "outputs": [
    {
     "data": {
      "text/plain": [
       "['-240745552',\n",
       " '-240745678#0',\n",
       " '-240745678#1',\n",
       " '-43100851',\n",
       " '-8649816#9',\n",
       " '-8650367',\n",
       " '-8652041#0',\n",
       " '-8652041#1',\n",
       " '105961640',\n",
       " '105961646',\n",
       " '240745551',\n",
       " '240745552',\n",
       " '240745553',\n",
       " '240745675',\n",
       " '240745676',\n",
       " '240745677#0',\n",
       " '240745677#1',\n",
       " '240745677#2',\n",
       " '240745677#3',\n",
       " '240745678#0',\n",
       " '240745678#1',\n",
       " '241028354',\n",
       " '325811605',\n",
       " '325811606#0',\n",
       " '325811606#1',\n",
       " '426830724',\n",
       " '43100846#0',\n",
       " '43100846#1',\n",
       " '43100847#0',\n",
       " '43100848',\n",
       " '43100849',\n",
       " '43100851',\n",
       " '485271437#0',\n",
       " '485271438#0',\n",
       " '485271438#1',\n",
       " '519869879#1',\n",
       " '519869879#2',\n",
       " '519869879#3',\n",
       " '543965405#3',\n",
       " '591236197',\n",
       " '591236207',\n",
       " '591236214#0',\n",
       " '591236214#1',\n",
       " '591236214#2',\n",
       " '8637705',\n",
       " '8644117',\n",
       " '8646307',\n",
       " '86479790#2',\n",
       " '86479790#3',\n",
       " '8649816#9',\n",
       " '8650084',\n",
       " '8650367',\n",
       " '8651363',\n",
       " '8651404#0',\n",
       " '8651404#1',\n",
       " '8651404#2',\n",
       " '8652041#0',\n",
       " '8652041#1']"
      ]
     },
     "execution_count": 9,
     "metadata": {},
     "output_type": "execute_result"
    }
   ],
   "source": [
    "edge_distribution(name + \"Selection.txt\")"
   ]
  },
  {
   "cell_type": "code",
   "execution_count": 10,
   "metadata": {},
   "outputs": [],
   "source": [
    "# my custom environment\n",
    "import osm_traffic_env\n",
    "from osm_traffic_env import OSMTrafficEnvironment\n",
    "from osm_traffic_env import OSMTrafficTestEnvironment\n"
   ]
  },
  {
   "cell_type": "code",
   "execution_count": 11,
   "metadata": {},
   "outputs": [],
   "source": [
    "inflow = InFlows()\n",
    "inflow.add(\n",
    "    veh_type=\"human\",\n",
    "    edge='241028354',\n",
    "    vehs_per_hour=1000,\n",
    "    departSpeed=10,\n",
    "    departLane=\"random\",\n",
    "    departPos=\"last\")\n",
    "inflow.add(\n",
    "    veh_type=\"human\",\n",
    "    edge='-240745552',\n",
    "    vehs_per_hour=700,\n",
    "    departSpeed=10,\n",
    "    departLane=\"random\",\n",
    "    departPos=\"last\")\n",
    "inflow.add(\n",
    "    veh_type=\"human\",\n",
    "    edge='519869879#1',\n",
    "    vehs_per_hour=700,\n",
    "    departSpeed=10,\n",
    "    departLane=\"random\",\n",
    "    departPos=\"last\")\n",
    "inflow.add(\n",
    "    veh_type=\"human\",\n",
    "    edge='86479790#2',\n",
    "    vehs_per_hour=500,\n",
    "    departSpeed=10,\n",
    "    departLane=\"random\",\n",
    "    departPos=\"last\")\n",
    "inflow.add(\n",
    "    veh_type=\"human\",\n",
    "    edge='8649389#1',\n",
    "    vehs_per_hour=200,\n",
    "    departSpeed=10,\n",
    "    departLane=\"random\",\n",
    "    departPos=\"last\")\n",
    "inflow.add(\n",
    "    veh_type=\"human\",\n",
    "    edge='8649816#9',\n",
    "    vehs_per_hour=200,\n",
    "    departSpeed=10,\n",
    "    departLane=\"random\",\n",
    "    departPos=\"last\")"
   ]
  },
  {
   "cell_type": "code",
   "execution_count": 12,
   "metadata": {},
   "outputs": [],
   "source": [
    "initial_config = InitialConfig(\n",
    "    spacing=\"random\", \n",
    "    perturbation=1,\n",
    "#     edges_distribution=edge_distribution(name + 'Selection.txt')\n",
    ")"
   ]
  },
  {
   "cell_type": "code",
   "execution_count": 13,
   "metadata": {},
   "outputs": [],
   "source": [
    "net_params = NetParams(\n",
    "    inflows=inflow,\n",
    "    osm_path=name+'.osm',\n",
    "    no_internal_links=False\n",
    ")"
   ]
  },
  {
   "cell_type": "code",
   "execution_count": 14,
   "metadata": {},
   "outputs": [],
   "source": [
    "# create the remainding parameters\n",
    "env_params = EnvParams()\n",
    "env_params.additional_params = osm_traffic_env.ADDITIONAL_ENV_PARAMS\n",
    "sim_params = SumoParams(render=True, restart_instance=True)\n",
    "# initial_config = InitialConfig()\n",
    "vehicles = VehicleParams()\n",
    "vehicles.add('human',\n",
    "             num_vehicles=100, \n",
    "             acceleration_controller=(IDMController, {}),\n",
    "             routing_controller=(OSMRouter, {}))\n",
    "\n",
    "# create the scenario\n",
    "scenario = OSMScenario(\n",
    "    name=name,\n",
    "    net_params=net_params,\n",
    "    initial_config=initial_config,\n",
    "    vehicles=vehicles\n",
    ")"
   ]
  },
  {
   "cell_type": "code",
   "execution_count": 16,
   "metadata": {},
   "outputs": [],
   "source": [
    "results = []"
   ]
  },
  {
   "cell_type": "code",
   "execution_count": 20,
   "metadata": {},
   "outputs": [
    {
     "name": "stdout",
     "output_type": "stream",
     "text": [
      "Round 0, return: 0\n",
      "Average, std return: 0.0, 0.0\n",
      "Average, std speed: 1.0691592972952313, 0.0\n",
      "Round 0, return: 0\n",
      "Average, std return: 0.0, 0.0\n",
      "Average, std speed: 0.8844487119636544, 0.0\n",
      "Round 0, return: 0\n",
      "Average, std return: 0.0, 0.0\n",
      "Average, std speed: 0.2502520217974394, 0.0\n",
      "Round 0, return: 0\n",
      "Average, std return: 0.0, 0.0\n",
      "Average, std speed: 0.8009161034437958, 0.0\n"
     ]
    }
   ],
   "source": [
    "for i in range(10):\n",
    "    # create the environment\n",
    "    env = OSMTrafficTestEnvironment(\n",
    "        env_params=env_params,\n",
    "        sim_params=sim_params,\n",
    "        scenario=scenario\n",
    "    )\n",
    "\n",
    "    # run the simulation for 1000 steps\n",
    "    exp = Experiment(env=env)\n",
    "    r = exp.run(1, 10000)\n",
    "    results.append(r)"
   ]
  },
  {
   "cell_type": "markdown",
   "metadata": {},
   "source": [
    "# Analysis"
   ]
  },
  {
   "cell_type": "code",
   "execution_count": 21,
   "metadata": {},
   "outputs": [
    {
     "data": {
      "text/plain": [
       "10"
      ]
     },
     "execution_count": 21,
     "metadata": {},
     "output_type": "execute_result"
    }
   ],
   "source": [
    "len(results)"
   ]
  },
  {
   "cell_type": "code",
   "execution_count": 24,
   "metadata": {},
   "outputs": [
    {
     "data": {
      "text/plain": [
       "dict_keys(['returns', 'mean_returns', 'velocities', 'per_step_returns'])"
      ]
     },
     "execution_count": 24,
     "metadata": {},
     "output_type": "execute_result"
    }
   ],
   "source": [
    "results[0].keys()"
   ]
  },
  {
   "cell_type": "code",
   "execution_count": 25,
   "metadata": {},
   "outputs": [
    {
     "data": {
      "text/plain": [
       "[[array([0.09697948, 0.19394951, 0.29091381, ..., 0.        , 0.        ,\n",
       "         0.        ])],\n",
       " [array([0.09870847, 0.19738677, 0.29603767, ..., 0.        , 0.        ,\n",
       "         0.        ])],\n",
       " [array([0.0979135 , 0.19581305, 0.2937012 , ..., 0.        , 0.        ,\n",
       "         0.        ])],\n",
       " [array([0.09868761, 0.19731807, 0.29592031, ..., 0.        , 0.        ,\n",
       "         0.        ])],\n",
       " [array([0.09846971, 0.19685944, 0.29520126, ..., 0.        , 0.        ,\n",
       "         0.        ])],\n",
       " [array([0.09879955, 0.19757657, 0.29633228, ..., 0.        , 0.        ,\n",
       "         0.        ])],\n",
       " [array([0.09791205, 0.19580944, 0.2936954 , ..., 0.        , 0.        ,\n",
       "         0.        ])],\n",
       " [array([0.09841814, 0.19678793, 0.29505876, ..., 0.        , 0.        ,\n",
       "         0.        ])],\n",
       " [array([0.09878216, 0.19753526, 0.29626535, ..., 0.        , 0.        ,\n",
       "         0.        ])],\n",
       " [array([0.09701597, 0.19400317, 0.29097305, ..., 0.        , 0.        ,\n",
       "         0.        ])]]"
      ]
     },
     "execution_count": 25,
     "metadata": {},
     "output_type": "execute_result"
    }
   ],
   "source": [
    "v = [x['velocities'] for x in results]\n",
    "v"
   ]
  },
  {
   "cell_type": "code",
   "execution_count": 26,
   "metadata": {},
   "outputs": [],
   "source": [
    "means = []\n",
    "for i in v:\n",
    "    m = np.mean(i)\n",
    "    means.append(m)"
   ]
  },
  {
   "cell_type": "code",
   "execution_count": 27,
   "metadata": {},
   "outputs": [
    {
     "data": {
      "text/plain": [
       "[0.45883545831320116,\n",
       " 1.1666769918029374,\n",
       " 0.2701375349785804,\n",
       " 0.7898747761779489,\n",
       " 0.0975448673564685,\n",
       " 0.07254009830456011,\n",
       " 1.0691592972952313,\n",
       " 0.8844487119636544,\n",
       " 0.2502520217974394,\n",
       " 0.8009161034437958]"
      ]
     },
     "execution_count": 27,
     "metadata": {},
     "output_type": "execute_result"
    }
   ],
   "source": [
    "means"
   ]
  },
  {
   "cell_type": "code",
   "execution_count": 28,
   "metadata": {},
   "outputs": [
    {
     "data": {
      "text/plain": [
       "0.5860385861433818"
      ]
     },
     "execution_count": 28,
     "metadata": {},
     "output_type": "execute_result"
    }
   ],
   "source": [
    "np.mean(means)"
   ]
  },
  {
   "cell_type": "code",
   "execution_count": 29,
   "metadata": {},
   "outputs": [
    {
     "data": {
      "text/plain": [
       "0.38449320665401776"
      ]
     },
     "execution_count": 29,
     "metadata": {},
     "output_type": "execute_result"
    }
   ],
   "source": [
    "np.std(means)"
   ]
  },
  {
   "cell_type": "code",
   "execution_count": 30,
   "metadata": {},
   "outputs": [],
   "source": [
    "import matplotlib.pyplot as plt"
   ]
  },
  {
   "cell_type": "code",
   "execution_count": 33,
   "metadata": {},
   "outputs": [
    {
     "data": {
      "text/plain": [
       "(array([2., 2., 0., 1., 0., 0., 2., 1., 0., 2.]),\n",
       " array([0.0725401 , 0.18195379, 0.29136748, 0.40078117, 0.51019486,\n",
       "        0.61960855, 0.72902223, 0.83843592, 0.94784961, 1.0572633 ,\n",
       "        1.16667699]),\n",
       " <a list of 10 Patch objects>)"
      ]
     },
     "execution_count": 33,
     "metadata": {},
     "output_type": "execute_result"
    },
    {
     "data": {
      "image/png": "[encoded data removed]",
      "text/plain": [
       "<Figure size 432x288 with 1 Axes>"
      ]
     },
     "metadata": {},
     "output_type": "display_data"
    }
   ],
   "source": [
    "plt.hist(means)"
   ]
  },
  {
   "cell_type": "code",
   "execution_count": null,
   "metadata": {},
   "outputs": [],
   "source": []
  }
 ],
 "metadata": {
  "kernelspec": {
   "display_name": "Python 3",
   "language": "python",
   "name": "python3"
  },
  "language_info": {
   "codemirror_mode": {
    "name": "ipython",
    "version": 3
   },
   "file_extension": ".py",
   "mimetype": "text/x-python",
   "name": "python",
   "nbconvert_exporter": "python",
   "pygments_lexer": "ipython3",
   "version": "3.5.2"
  },
  "widgets": {
   "state": {},
   "version": "1.1.2"
  }
 },
 "nbformat": 4,
 "nbformat_minor": 2
}
